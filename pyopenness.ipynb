{
 "cells": [
  {
   "cell_type": "code",
   "execution_count": 1,
   "metadata": {},
   "outputs": [],
   "source": [
    "import pandas as pd\n",
    "import clr\n",
    "clr.AddReference('C:\\\\Program Files\\\\Siemens\\\\Automation\\\\Portal V15_1\\PublicAPI\\\\V15.1\\\\Siemens.Engineering.dll')\n",
    "from System.IO import DirectoryInfo\n",
    "import Siemens.Engineering as tia\n",
    "import Siemens.Engineering.HW.Features as hwf\n"
   ]
  },
  {
   "cell_type": "code",
   "execution_count": 2,
   "metadata": {},
   "outputs": [
    {
     "name": "stdout",
     "output_type": "stream",
     "text": [
      "Starting TIA with UI\n"
     ]
    }
   ],
   "source": [
    "project_path = DirectoryInfo ('C:\\\\Jonas\\\\TIA')\n",
    "project_name = 'PythonTest'\n",
    "\n",
    "#Starting TIA\n",
    "print ('Starting TIA with UI')\n",
    "mytia = tia.TiaPortal(tia.TiaPortalMode.WithUserInterface)\n",
    "try:\n",
    "    myproject = mytia.Projects.Create(project_path, project_name)\n",
    "except Exception as e:\n",
    "    print (e)"
   ]
  },
  {
   "cell_type": "code",
   "execution_count": 3,
   "metadata": {},
   "outputs": [
    {
     "name": "stdout",
     "output_type": "stream",
     "text": [
      "Creating project\n"
     ]
    },
    {
     "ename": "EngineeringTargetInvocationException",
     "evalue": "Error when calling method 'Create' of type 'Siemens.Engineering.ProjectComposition'.\r\n\r\nUnable to open project 'C:\\Jonas\\TIA\\PythonTest'. Another project is already open.\n   at Siemens.Engineering.Private.Session.Siemens.Engineering.Private.ICompositionSession.Create[T,TC](LifetimeContractHandle`1 lifetimeContractHandle, Type type, IEnumerable`1 parameters, String fullName) in c:\\Users\\Jonas\\AppData\\Local\\Temp\\aixvdi4u\\aixvdi4u.64.cs:line 3520\r\n   at Siemens.Engineering.Private.InternalCompositionAccess.Create[T](Type type, IEnumerable`1 parameters) in c:\\Users\\Jonas\\AppData\\Local\\Temp\\aixvdi4u\\aixvdi4u.66.cs:line 754\r\n   at Siemens.Engineering.ProjectComposition.Create(DirectoryInfo targetDirectory, String name) in c:\\Users\\Jonas\\AppData\\Local\\Temp\\aixvdi4u\\aixvdi4u.11.cs:line 7294",
     "output_type": "error",
     "traceback": [
      "\u001b[1;31m---------------------------------------------------------------------------\u001b[0m",
      "\u001b[1;31mEngineeringTargetInvocationException\u001b[0m      Traceback (most recent call last)",
      "\u001b[1;32m<ipython-input-3-22c26aabb424>\u001b[0m in \u001b[0;36m<module>\u001b[1;34m\u001b[0m\n\u001b[0;32m      1\u001b[0m \u001b[0mprint\u001b[0m \u001b[1;33m(\u001b[0m\u001b[1;34m'Creating project'\u001b[0m\u001b[1;33m)\u001b[0m\u001b[1;33m\u001b[0m\u001b[1;33m\u001b[0m\u001b[0m\n\u001b[1;32m----> 2\u001b[1;33m \u001b[0mmyproject\u001b[0m \u001b[1;33m=\u001b[0m \u001b[0mmytia\u001b[0m\u001b[1;33m.\u001b[0m\u001b[0mProjects\u001b[0m\u001b[1;33m.\u001b[0m\u001b[0mCreate\u001b[0m\u001b[1;33m(\u001b[0m\u001b[0mproject_path\u001b[0m\u001b[1;33m,\u001b[0m \u001b[0mproject_name\u001b[0m\u001b[1;33m)\u001b[0m\u001b[1;33m\u001b[0m\u001b[1;33m\u001b[0m\u001b[0m\n\u001b[0m",
      "\u001b[1;31mEngineeringTargetInvocationException\u001b[0m: Error when calling method 'Create' of type 'Siemens.Engineering.ProjectComposition'.\r\n\r\nUnable to open project 'C:\\Jonas\\TIA\\PythonTest'. Another project is already open.\n   at Siemens.Engineering.Private.Session.Siemens.Engineering.Private.ICompositionSession.Create[T,TC](LifetimeContractHandle`1 lifetimeContractHandle, Type type, IEnumerable`1 parameters, String fullName) in c:\\Users\\Jonas\\AppData\\Local\\Temp\\aixvdi4u\\aixvdi4u.64.cs:line 3520\r\n   at Siemens.Engineering.Private.InternalCompositionAccess.Create[T](Type type, IEnumerable`1 parameters) in c:\\Users\\Jonas\\AppData\\Local\\Temp\\aixvdi4u\\aixvdi4u.66.cs:line 754\r\n   at Siemens.Engineering.ProjectComposition.Create(DirectoryInfo targetDirectory, String name) in c:\\Users\\Jonas\\AppData\\Local\\Temp\\aixvdi4u\\aixvdi4u.11.cs:line 7294"
     ]
    }
   ],
   "source": [
    "print ('Creating project')\n",
    "myproject = mytia.Projects.Create(project_path, project_name)\n"
   ]
  },
  {
   "cell_type": "code",
   "execution_count": 2,
   "metadata": {},
   "outputs": [],
   "source": [
    "processes = tia.TiaPortal.GetProcesses() # Making a list of all running processes\n",
    "process = processes[0]                   # Just taking the first process as an example\n",
    "mytia = process.Attach()"
   ]
  },
  {
   "cell_type": "code",
   "execution_count": null,
   "metadata": {},
   "outputs": [],
   "source": [
    "#mytia.Dispose()"
   ]
  },
  {
   "cell_type": "code",
   "execution_count": 6,
   "metadata": {
    "scrolled": true
   },
   "outputs": [
    {
     "data": {
      "text/html": [
       "<div>\n",
       "<style scoped>\n",
       "    .dataframe tbody tr th:only-of-type {\n",
       "        vertical-align: middle;\n",
       "    }\n",
       "\n",
       "    .dataframe tbody tr th {\n",
       "        vertical-align: top;\n",
       "    }\n",
       "\n",
       "    .dataframe thead th {\n",
       "        text-align: right;\n",
       "    }\n",
       "</style>\n",
       "<table border=\"1\" class=\"dataframe\">\n",
       "  <thead>\n",
       "    <tr style=\"text-align: right;\">\n",
       "      <th></th>\n",
       "      <th>Unnamed: 0</th>\n",
       "      <th>Name1</th>\n",
       "      <th>Name2</th>\n",
       "      <th>Main station</th>\n",
       "      <th>IP</th>\n",
       "      <th>IO</th>\n",
       "      <th>IO.1</th>\n",
       "      <th>IO.2</th>\n",
       "      <th>IO.3</th>\n",
       "      <th>IO.4</th>\n",
       "      <th>IO.5</th>\n",
       "      <th>IO.6</th>\n",
       "      <th>IO.7</th>\n",
       "      <th>IO.8</th>\n",
       "      <th>IO.9</th>\n",
       "      <th>IO.10</th>\n",
       "      <th>IO.11</th>\n",
       "      <th>IO.12</th>\n",
       "      <th>IO.13</th>\n",
       "      <th>IO.14</th>\n",
       "    </tr>\n",
       "  </thead>\n",
       "  <tbody>\n",
       "    <tr>\n",
       "      <th>0</th>\n",
       "      <td>None</td>\n",
       "      <td>PLC1</td>\n",
       "      <td>PLC1</td>\n",
       "      <td>OrderNumber:6ES7 513-1AL02-0AB0/V2.6</td>\n",
       "      <td>192.168.0.101</td>\n",
       "      <td>OrderNumber:6ES7 521-1BL00-0AB0/V2.1</td>\n",
       "      <td>OrderNumber:6ES7 522-1BL00-0AB0/V2.0</td>\n",
       "      <td>OrderNumber:6ES7 522-1BL00-0AB0/V2.0</td>\n",
       "      <td>None</td>\n",
       "      <td>None</td>\n",
       "      <td>None</td>\n",
       "      <td>None</td>\n",
       "      <td>None</td>\n",
       "      <td>None</td>\n",
       "      <td>None</td>\n",
       "      <td>None</td>\n",
       "      <td>None</td>\n",
       "      <td>None</td>\n",
       "      <td>None</td>\n",
       "      <td>None</td>\n",
       "    </tr>\n",
       "    <tr>\n",
       "      <th>1</th>\n",
       "      <td>None</td>\n",
       "      <td>IONode</td>\n",
       "      <td>IONode</td>\n",
       "      <td>OrderNumber:6ES7 155-6AU01-0BN0/V4.1</td>\n",
       "      <td>192.168.0.102</td>\n",
       "      <td>OrderNumber:6ES7 131-6BH01-0BA0/V0.0</td>\n",
       "      <td>OrderNumber:6ES7 132-6BH01-0BA0/V0.0</td>\n",
       "      <td>OrderNumber:6ES7 132-6BH01-0BA0/V0.0</td>\n",
       "      <td>OrderNumber:6ES7 132-6BH01-0BA0/V0.0</td>\n",
       "      <td>None</td>\n",
       "      <td>None</td>\n",
       "      <td>None</td>\n",
       "      <td>None</td>\n",
       "      <td>None</td>\n",
       "      <td>None</td>\n",
       "      <td>None</td>\n",
       "      <td>None</td>\n",
       "      <td>None</td>\n",
       "      <td>None</td>\n",
       "      <td>None</td>\n",
       "    </tr>\n",
       "    <tr>\n",
       "      <th>2</th>\n",
       "      <td>None</td>\n",
       "      <td>HMI</td>\n",
       "      <td>None</td>\n",
       "      <td>OrderNumber:6AV2 124-0GC01-0AX0/15.1.0.0</td>\n",
       "      <td>192.168.0.103</td>\n",
       "      <td>None</td>\n",
       "      <td>None</td>\n",
       "      <td>None</td>\n",
       "      <td>None</td>\n",
       "      <td>None</td>\n",
       "      <td>None</td>\n",
       "      <td>None</td>\n",
       "      <td>None</td>\n",
       "      <td>None</td>\n",
       "      <td>None</td>\n",
       "      <td>None</td>\n",
       "      <td>None</td>\n",
       "      <td>None</td>\n",
       "      <td>None</td>\n",
       "      <td>None</td>\n",
       "    </tr>\n",
       "  </tbody>\n",
       "</table>\n",
       "</div>"
      ],
      "text/plain": [
       "  Unnamed: 0   Name1   Name2                              Main station  \\\n",
       "0       None    PLC1    PLC1      OrderNumber:6ES7 513-1AL02-0AB0/V2.6   \n",
       "1       None  IONode  IONode      OrderNumber:6ES7 155-6AU01-0BN0/V4.1   \n",
       "2       None     HMI    None  OrderNumber:6AV2 124-0GC01-0AX0/15.1.0.0   \n",
       "\n",
       "              IP                                    IO  \\\n",
       "0  192.168.0.101  OrderNumber:6ES7 521-1BL00-0AB0/V2.1   \n",
       "1  192.168.0.102  OrderNumber:6ES7 131-6BH01-0BA0/V0.0   \n",
       "2  192.168.0.103                                  None   \n",
       "\n",
       "                                   IO.1                                  IO.2  \\\n",
       "0  OrderNumber:6ES7 522-1BL00-0AB0/V2.0  OrderNumber:6ES7 522-1BL00-0AB0/V2.0   \n",
       "1  OrderNumber:6ES7 132-6BH01-0BA0/V0.0  OrderNumber:6ES7 132-6BH01-0BA0/V0.0   \n",
       "2                                  None                                  None   \n",
       "\n",
       "                                   IO.3  IO.4  IO.5  IO.6  IO.7  IO.8  IO.9  \\\n",
       "0                                  None  None  None  None  None  None  None   \n",
       "1  OrderNumber:6ES7 132-6BH01-0BA0/V0.0  None  None  None  None  None  None   \n",
       "2                                  None  None  None  None  None  None  None   \n",
       "\n",
       "  IO.10 IO.11 IO.12 IO.13 IO.14  \n",
       "0  None  None  None  None  None  \n",
       "1  None  None  None  None  None  \n",
       "2  None  None  None  None  None  "
      ]
     },
     "execution_count": 6,
     "metadata": {},
     "output_type": "execute_result"
    }
   ],
   "source": [
    "df = pd.read_excel('./resources/template.xlsx', sheet_name='Sheet1')\n",
    "df = df.replace({pd.np.nan: None}) # Needed as \"HMI name2 must be None\"\n",
    "df\n"
   ]
  },
  {
   "cell_type": "code",
   "execution_count": 14,
   "metadata": {},
   "outputs": [
    {
     "name": "stdout",
     "output_type": "stream",
     "text": [
      "None\n"
     ]
    }
   ],
   "source": [
    "node_names1 = df['Name1']\n",
    "node_names2 = df['Name2']\n",
    "nodes = df['Main station']\n",
    "node_ip = df['IP']\n",
    "print(node_names2[2])"
   ]
  },
  {
   "cell_type": "code",
   "execution_count": 15,
   "metadata": {},
   "outputs": [],
   "source": [
    "stations = []\n",
    "names2 = \"\"\n",
    "for i in range(len(nodes)):\n",
    "    stations.append(myproject.Devices.CreateWithItem(nodes[i], node_names1[i], node_names2[i]))\n",
    "    "
   ]
  },
  {
   "cell_type": "code",
   "execution_count": 13,
   "metadata": {},
   "outputs": [
    {
     "ename": "SyntaxError",
     "evalue": "invalid syntax (<ipython-input-13-e87199ba8f3b>, line 4)",
     "output_type": "error",
     "traceback": [
      "\u001b[1;36m  File \u001b[1;32m\"<ipython-input-13-e87199ba8f3b>\"\u001b[1;36m, line \u001b[1;32m4\u001b[0m\n\u001b[1;33m    NWIHMI =((IEngineeringServiceProvider)stations[2].DeviceItems[1].DeviceItems[0]).GetService<NetworkInterface>();\u001b[0m\n\u001b[1;37m                                                 ^\u001b[0m\n\u001b[1;31mSyntaxError\u001b[0m\u001b[1;31m:\u001b[0m invalid syntax\n"
     ]
    }
   ],
   "source": [
    "###SLETTT\n",
    "from Siemens.Engineering.HW import*\n",
    "from Siemens.Engineering.HW.Features import*\n",
    "NWIHMI =((IEngineeringServiceProvider)stations[2].DeviceItems[1].DeviceItems[0]).GetService<NetworkInterface>();\n",
    "\n",
    "NWIHMI.Nodes.First().SetAttribute(\"Adress\", \"192.168.0.199\")"
   ]
  },
  {
   "cell_type": "code",
   "execution_count": 18,
   "metadata": {},
   "outputs": [
    {
     "name": "stdout",
     "output_type": "stream",
     "text": [
      "<class 'Siemens.Engineering.HW.Features.NetworkInterface'>\n"
     ]
    }
   ],
   "source": [
    "\n",
    "#from Siemens.Engineering.HW import*\n",
    "#from Siemens.Engineering.HW.Features import*\n",
    "#from Siemens.Engineering import*\n",
    "\n",
    "NWIHMI = tia.IEngineeringServiceProvider((stations[2].DeviceItems[1].DeviceItems[0])).GetService[hwf.NetworkInterface]()\n",
    "#npl ==(stations[0].DeviceItems[1].DeviceItems[3]).GetService<NetworkInterface>()\n",
    "subnet = NWIHMI.Nodes[0].CreateAndConnectToSubnet(\"ppp\")\n",
    "print (type(NWIHMI))\n",
    "\n"
   ]
  },
  {
   "cell_type": "code",
   "execution_count": 106,
   "metadata": {},
   "outputs": [],
   "source": [
    "NWIHMI.Nodes[0].SetAttribute(\"Address\",\"192.168.0.199\")\n"
   ]
  },
  {
   "cell_type": "code",
   "execution_count": 13,
   "metadata": {},
   "outputs": [
    {
     "ename": "IndexError",
     "evalue": "list index out of range",
     "output_type": "error",
     "traceback": [
      "\u001b[1;31m---------------------------------------------------------------------------\u001b[0m",
      "\u001b[1;31mIndexError\u001b[0m                                Traceback (most recent call last)",
      "\u001b[1;32m<ipython-input-13-3ba8da8e9a0e>\u001b[0m in \u001b[0;36m<module>\u001b[1;34m\u001b[0m\n\u001b[1;32m----> 1\u001b[1;33m \u001b[0mprint\u001b[0m\u001b[1;33m(\u001b[0m\u001b[0mstations\u001b[0m\u001b[1;33m[\u001b[0m\u001b[1;36m0\u001b[0m\u001b[1;33m]\u001b[0m\u001b[1;33m)\u001b[0m\u001b[1;33m\u001b[0m\u001b[1;33m\u001b[0m\u001b[0m\n\u001b[0m",
      "\u001b[1;31mIndexError\u001b[0m: list index out of range"
     ]
    }
   ],
   "source": [
    "print(stations[0])"
   ]
  },
  {
   "cell_type": "code",
   "execution_count": null,
   "metadata": {},
   "outputs": [],
   "source": []
  }
 ],
 "metadata": {
  "kernelspec": {
   "display_name": "Python [conda env:pyopenness]",
   "language": "python",
   "name": "conda-env-pyopenness-py"
  },
  "language_info": {
   "codemirror_mode": {
    "name": "ipython",
    "version": 3
   },
   "file_extension": ".py",
   "mimetype": "text/x-python",
   "name": "python",
   "nbconvert_exporter": "python",
   "pygments_lexer": "ipython3",
   "version": "3.7.3"
  }
 },
 "nbformat": 4,
 "nbformat_minor": 2
}
