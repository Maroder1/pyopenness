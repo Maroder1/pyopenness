{
 "cells": [
  {
   "cell_type": "code",
   "execution_count": 3,
   "metadata": {},
   "outputs": [],
   "source": [
    "import pandas as pd\n",
    "import clr\n",
    "clr.AddReference('C:\\\\Program Files\\\\Siemens\\\\Automation\\\\Portal V15_1\\PublicAPI\\\\V15.1\\\\Siemens.Engineering.dll')\n",
    "from System.IO import DirectoryInfo\n",
    "import Siemens.Engineering as tia\n",
    "import Siemens.Engineering.HW.Features as hwf\n"
   ]
  },
  {
   "cell_type": "code",
   "execution_count": 2,
   "metadata": {},
   "outputs": [
    {
     "name": "stdout",
     "output_type": "stream",
     "text": [
      "Starting TIA with UI\n"
     ]
    }
   ],
   "source": [
    "project_path = DirectoryInfo ('C:\\\\Jonas\\\\TIA')\n",
    "project_name = 'PythonTest'\n",
    "\n",
    "#Starting TIA\n",
    "print ('Starting TIA with UI')\n",
    "mytia = tia.TiaPortal(tia.TiaPortalMode.WithUserInterface)\n",
    "try:\n",
    "    myproject = mytia.Projects.Create(project_path, project_name)\n",
    "except Exception as e:\n",
    "    print (e)"
   ]
  },
  {
   "cell_type": "code",
   "execution_count": 4,
   "metadata": {},
   "outputs": [],
   "source": [
    "processes = tia.TiaPortal.GetProcesses() # Making a list of all running processes\n",
    "process = processes[0]                   # Just taking the first process as an example\n",
    "mytia = process.Attach()\n",
    "myproject = mytia.Projects[0]"
   ]
  },
  {
   "cell_type": "code",
   "execution_count": 10,
   "metadata": {},
   "outputs": [],
   "source": [
    "#mytia.Dispose()\n"
   ]
  },
  {
   "cell_type": "code",
   "execution_count": 7,
   "metadata": {
    "scrolled": true
   },
   "outputs": [],
   "source": [
    "df = pd.read_excel('./resources/template.xlsx', sheet_name='Sheet1')\n",
    "df = df.replace({pd.np.nan: None}) # Needed as \"HMI name2 must be None\"\n",
    "#df\n"
   ]
  },
  {
   "cell_type": "code",
   "execution_count": 8,
   "metadata": {},
   "outputs": [],
   "source": [
    "node_names1 = df['Name1']\n",
    "node_names2 = df['Name2']\n",
    "nodes = df['Main station']\n",
    "node_ip = df['IP']\n",
    "\n",
    "\n",
    "\n"
   ]
  },
  {
   "cell_type": "code",
   "execution_count": 11,
   "metadata": {},
   "outputs": [],
   "source": [
    "stations = []\n",
    "for i in range(len(nodes)):\n",
    "    stations.append(myproject.Devices.CreateWithItem(nodes[i], node_names1[i], node_names2[i]))\n",
    "    "
   ]
  },
  {
   "cell_type": "code",
   "execution_count": 26,
   "metadata": {},
   "outputs": [],
   "source": [
    "# adding IO\n",
    "for station in stations:\n",
    "    io = []\n",
    "    for i in range(1,6):\n",
    "        if df[f'IO.{i}'][stations.index(station)] is not (None):\n",
    "            if (station.DeviceItems[0].CanPlugNew(df[f'IO.{i}'][stations.index(station)], f'IO{i}', (i))) is True:\n",
    "                (station.DeviceItems[0].PlugNew(df[f'IO.{i}'][stations.index(station)], f'IO{i}', (i)))\n",
    "            elif (station.DeviceItems[0].CanPlugNew(df[f'IO.{i}'][stations.index(station)], f'IO{i}', (i+1))) is True:\n",
    "                (station.DeviceItems[0].PlugNew(df[f'IO.{i}'][stations.index(station)], f'IO{i}', (i+1)))"
   ]
  },
  {
   "cell_type": "code",
   "execution_count": 6,
   "metadata": {},
   "outputs": [],
   "source": [
    "# Creating network interfaces and setting IPs\n",
    "n_interfaces = []\n",
    "for station in stations:\n",
    "    device_item_aggregation = station.DeviceItems[1].DeviceItems\n",
    "    for deviceitem in device_item_aggregation:\n",
    "        network_service = tia.IEngineeringServiceProvider(deviceitem).GetService[hwf.NetworkInterface]()\n",
    "        if type(network_service) is hwf.NetworkInterface:\n",
    "            n_interfaces.append(network_service)\n",
    "            network_service.Nodes[0].SetAttribute('Address',node_ip[stations.index(station)])\n"
   ]
  },
  {
   "cell_type": "code",
   "execution_count": 7,
   "metadata": {},
   "outputs": [],
   "source": [
    "# Creating subnet and IO system\n",
    "for n in n_interfaces:\n",
    "    if n_interfaces.index(n) == 0:\n",
    "        subnet = n_interfaces[0].Nodes[0].CreateAndConnectToSubnet(\"Profinet\")\n",
    "        ioSystem = n_interfaces[0].IoControllers[0].CreateIoSystem(\"PNIO\");\n",
    "    else:\n",
    "        n_interfaces[n_interfaces.index(n)].Nodes[0].ConnectToSubnet(subnet)\n",
    "        if (n_interfaces[n_interfaces.index(n)].IoConnectors.Count) >> 0:\n",
    "            n_interfaces[n_interfaces.index(n)].IoConnectors[0].ConnectToIoSystem(ioSystem);\n",
    "\n"
   ]
  },
  {
   "cell_type": "code",
   "execution_count": null,
   "metadata": {},
   "outputs": [],
   "source": []
  }
 ],
 "metadata": {
  "kernelspec": {
   "display_name": "Python [conda env:.conda-pyopenness]",
   "language": "python",
   "name": "conda-env-.conda-pyopenness-py"
  },
  "language_info": {
   "codemirror_mode": {
    "name": "ipython",
    "version": 3
   },
   "file_extension": ".py",
   "mimetype": "text/x-python",
   "name": "python",
   "nbconvert_exporter": "python",
   "pygments_lexer": "ipython3",
   "version": "3.7.3"
  }
 },
 "nbformat": 4,
 "nbformat_minor": 2
}
